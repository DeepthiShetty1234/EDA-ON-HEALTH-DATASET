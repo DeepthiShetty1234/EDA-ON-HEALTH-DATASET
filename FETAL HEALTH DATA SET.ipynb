{
 "cells": [
  {
   "cell_type": "markdown",
   "id": "42d8f817",
   "metadata": {},
   "source": [
    "# import Necessary Libraries and Data Sets"
   ]
  },
  {
   "cell_type": "code",
   "execution_count": 17,
   "id": "bbf02d00",
   "metadata": {},
   "outputs": [],
   "source": [
    "import numpy as np\n",
    "import pandas as pd\n",
    " \n",
    "# Data visualization\n",
    "import matplotlib.pyplot as plt\n",
    "import seaborn as sns\n",
    "\n",
    "\n",
    "# Algorithms\n",
    "from sklearn.model_selection import cross_val_score\n",
    "from sklearn.model_selection import StratifiedKFold\n",
    "from sklearn.preprocessing import StandardScaler\n",
    "from sklearn.model_selection import train_test_split\n",
    "from sklearn import linear_model\n",
    "from sklearn.linear_model import LogisticRegression\n",
    "from sklearn.neighbors import KNeighborsClassifier\n",
    "from sklearn.ensemble import RandomForestClassifier\n",
    "from sklearn.ensemble import GradientBoostingClassifier\n",
    "from sklearn.model_selection import GridSearchCV\n",
    "from sklearn.metrics import classification_report, confusion_matrix\n",
    "from sklearn.metrics import mean_squared_error\n",
    "from sklearn.model_selection import learning_curve"
   ]
  },
  {
   "cell_type": "markdown",
   "id": "25c9204f",
   "metadata": {},
   "source": [
    "# fetal-health-classification"
   ]
  },
  {
   "cell_type": "code",
   "execution_count": 4,
   "id": "019ef9b7",
   "metadata": {},
   "outputs": [
    {
     "data": {
      "text/html": [
       "<div>\n",
       "<style scoped>\n",
       "    .dataframe tbody tr th:only-of-type {\n",
       "        vertical-align: middle;\n",
       "    }\n",
       "\n",
       "    .dataframe tbody tr th {\n",
       "        vertical-align: top;\n",
       "    }\n",
       "\n",
       "    .dataframe thead th {\n",
       "        text-align: right;\n",
       "    }\n",
       "</style>\n",
       "<table border=\"1\" class=\"dataframe\">\n",
       "  <thead>\n",
       "    <tr style=\"text-align: right;\">\n",
       "      <th></th>\n",
       "      <th>baseline value</th>\n",
       "      <th>accelerations</th>\n",
       "      <th>fetal_movement</th>\n",
       "      <th>uterine_contractions</th>\n",
       "      <th>light_decelerations</th>\n",
       "      <th>severe_decelerations</th>\n",
       "      <th>prolongued_decelerations</th>\n",
       "      <th>abnormal_short_term_variability</th>\n",
       "      <th>mean_value_of_short_term_variability</th>\n",
       "      <th>percentage_of_time_with_abnormal_long_term_variability</th>\n",
       "      <th>...</th>\n",
       "      <th>histogram_min</th>\n",
       "      <th>histogram_max</th>\n",
       "      <th>histogram_number_of_peaks</th>\n",
       "      <th>histogram_number_of_zeroes</th>\n",
       "      <th>histogram_mode</th>\n",
       "      <th>histogram_mean</th>\n",
       "      <th>histogram_median</th>\n",
       "      <th>histogram_variance</th>\n",
       "      <th>histogram_tendency</th>\n",
       "      <th>fetal_health</th>\n",
       "    </tr>\n",
       "  </thead>\n",
       "  <tbody>\n",
       "    <tr>\n",
       "      <th>0</th>\n",
       "      <td>120.0</td>\n",
       "      <td>0.000</td>\n",
       "      <td>0.000</td>\n",
       "      <td>0.000</td>\n",
       "      <td>0.000</td>\n",
       "      <td>0.0</td>\n",
       "      <td>0.0</td>\n",
       "      <td>73.0</td>\n",
       "      <td>0.5</td>\n",
       "      <td>43.0</td>\n",
       "      <td>...</td>\n",
       "      <td>62.0</td>\n",
       "      <td>126.0</td>\n",
       "      <td>2.0</td>\n",
       "      <td>0.0</td>\n",
       "      <td>120.0</td>\n",
       "      <td>137.0</td>\n",
       "      <td>121.0</td>\n",
       "      <td>73.0</td>\n",
       "      <td>1.0</td>\n",
       "      <td>2.0</td>\n",
       "    </tr>\n",
       "    <tr>\n",
       "      <th>1</th>\n",
       "      <td>132.0</td>\n",
       "      <td>0.006</td>\n",
       "      <td>0.000</td>\n",
       "      <td>0.006</td>\n",
       "      <td>0.003</td>\n",
       "      <td>0.0</td>\n",
       "      <td>0.0</td>\n",
       "      <td>17.0</td>\n",
       "      <td>2.1</td>\n",
       "      <td>0.0</td>\n",
       "      <td>...</td>\n",
       "      <td>68.0</td>\n",
       "      <td>198.0</td>\n",
       "      <td>6.0</td>\n",
       "      <td>1.0</td>\n",
       "      <td>141.0</td>\n",
       "      <td>136.0</td>\n",
       "      <td>140.0</td>\n",
       "      <td>12.0</td>\n",
       "      <td>0.0</td>\n",
       "      <td>1.0</td>\n",
       "    </tr>\n",
       "    <tr>\n",
       "      <th>2</th>\n",
       "      <td>133.0</td>\n",
       "      <td>0.003</td>\n",
       "      <td>0.000</td>\n",
       "      <td>0.008</td>\n",
       "      <td>0.003</td>\n",
       "      <td>0.0</td>\n",
       "      <td>0.0</td>\n",
       "      <td>16.0</td>\n",
       "      <td>2.1</td>\n",
       "      <td>0.0</td>\n",
       "      <td>...</td>\n",
       "      <td>68.0</td>\n",
       "      <td>198.0</td>\n",
       "      <td>5.0</td>\n",
       "      <td>1.0</td>\n",
       "      <td>141.0</td>\n",
       "      <td>135.0</td>\n",
       "      <td>138.0</td>\n",
       "      <td>13.0</td>\n",
       "      <td>0.0</td>\n",
       "      <td>1.0</td>\n",
       "    </tr>\n",
       "    <tr>\n",
       "      <th>3</th>\n",
       "      <td>134.0</td>\n",
       "      <td>0.003</td>\n",
       "      <td>0.000</td>\n",
       "      <td>0.008</td>\n",
       "      <td>0.003</td>\n",
       "      <td>0.0</td>\n",
       "      <td>0.0</td>\n",
       "      <td>16.0</td>\n",
       "      <td>2.4</td>\n",
       "      <td>0.0</td>\n",
       "      <td>...</td>\n",
       "      <td>53.0</td>\n",
       "      <td>170.0</td>\n",
       "      <td>11.0</td>\n",
       "      <td>0.0</td>\n",
       "      <td>137.0</td>\n",
       "      <td>134.0</td>\n",
       "      <td>137.0</td>\n",
       "      <td>13.0</td>\n",
       "      <td>1.0</td>\n",
       "      <td>1.0</td>\n",
       "    </tr>\n",
       "    <tr>\n",
       "      <th>4</th>\n",
       "      <td>132.0</td>\n",
       "      <td>0.007</td>\n",
       "      <td>0.000</td>\n",
       "      <td>0.008</td>\n",
       "      <td>0.000</td>\n",
       "      <td>0.0</td>\n",
       "      <td>0.0</td>\n",
       "      <td>16.0</td>\n",
       "      <td>2.4</td>\n",
       "      <td>0.0</td>\n",
       "      <td>...</td>\n",
       "      <td>53.0</td>\n",
       "      <td>170.0</td>\n",
       "      <td>9.0</td>\n",
       "      <td>0.0</td>\n",
       "      <td>137.0</td>\n",
       "      <td>136.0</td>\n",
       "      <td>138.0</td>\n",
       "      <td>11.0</td>\n",
       "      <td>1.0</td>\n",
       "      <td>1.0</td>\n",
       "    </tr>\n",
       "    <tr>\n",
       "      <th>...</th>\n",
       "      <td>...</td>\n",
       "      <td>...</td>\n",
       "      <td>...</td>\n",
       "      <td>...</td>\n",
       "      <td>...</td>\n",
       "      <td>...</td>\n",
       "      <td>...</td>\n",
       "      <td>...</td>\n",
       "      <td>...</td>\n",
       "      <td>...</td>\n",
       "      <td>...</td>\n",
       "      <td>...</td>\n",
       "      <td>...</td>\n",
       "      <td>...</td>\n",
       "      <td>...</td>\n",
       "      <td>...</td>\n",
       "      <td>...</td>\n",
       "      <td>...</td>\n",
       "      <td>...</td>\n",
       "      <td>...</td>\n",
       "      <td>...</td>\n",
       "    </tr>\n",
       "    <tr>\n",
       "      <th>2121</th>\n",
       "      <td>140.0</td>\n",
       "      <td>0.000</td>\n",
       "      <td>0.000</td>\n",
       "      <td>0.007</td>\n",
       "      <td>0.000</td>\n",
       "      <td>0.0</td>\n",
       "      <td>0.0</td>\n",
       "      <td>79.0</td>\n",
       "      <td>0.2</td>\n",
       "      <td>25.0</td>\n",
       "      <td>...</td>\n",
       "      <td>137.0</td>\n",
       "      <td>177.0</td>\n",
       "      <td>4.0</td>\n",
       "      <td>0.0</td>\n",
       "      <td>153.0</td>\n",
       "      <td>150.0</td>\n",
       "      <td>152.0</td>\n",
       "      <td>2.0</td>\n",
       "      <td>0.0</td>\n",
       "      <td>2.0</td>\n",
       "    </tr>\n",
       "    <tr>\n",
       "      <th>2122</th>\n",
       "      <td>140.0</td>\n",
       "      <td>0.001</td>\n",
       "      <td>0.000</td>\n",
       "      <td>0.007</td>\n",
       "      <td>0.000</td>\n",
       "      <td>0.0</td>\n",
       "      <td>0.0</td>\n",
       "      <td>78.0</td>\n",
       "      <td>0.4</td>\n",
       "      <td>22.0</td>\n",
       "      <td>...</td>\n",
       "      <td>103.0</td>\n",
       "      <td>169.0</td>\n",
       "      <td>6.0</td>\n",
       "      <td>0.0</td>\n",
       "      <td>152.0</td>\n",
       "      <td>148.0</td>\n",
       "      <td>151.0</td>\n",
       "      <td>3.0</td>\n",
       "      <td>1.0</td>\n",
       "      <td>2.0</td>\n",
       "    </tr>\n",
       "    <tr>\n",
       "      <th>2123</th>\n",
       "      <td>140.0</td>\n",
       "      <td>0.001</td>\n",
       "      <td>0.000</td>\n",
       "      <td>0.007</td>\n",
       "      <td>0.000</td>\n",
       "      <td>0.0</td>\n",
       "      <td>0.0</td>\n",
       "      <td>79.0</td>\n",
       "      <td>0.4</td>\n",
       "      <td>20.0</td>\n",
       "      <td>...</td>\n",
       "      <td>103.0</td>\n",
       "      <td>170.0</td>\n",
       "      <td>5.0</td>\n",
       "      <td>0.0</td>\n",
       "      <td>153.0</td>\n",
       "      <td>148.0</td>\n",
       "      <td>152.0</td>\n",
       "      <td>4.0</td>\n",
       "      <td>1.0</td>\n",
       "      <td>2.0</td>\n",
       "    </tr>\n",
       "    <tr>\n",
       "      <th>2124</th>\n",
       "      <td>140.0</td>\n",
       "      <td>0.001</td>\n",
       "      <td>0.000</td>\n",
       "      <td>0.006</td>\n",
       "      <td>0.000</td>\n",
       "      <td>0.0</td>\n",
       "      <td>0.0</td>\n",
       "      <td>78.0</td>\n",
       "      <td>0.4</td>\n",
       "      <td>27.0</td>\n",
       "      <td>...</td>\n",
       "      <td>103.0</td>\n",
       "      <td>169.0</td>\n",
       "      <td>6.0</td>\n",
       "      <td>0.0</td>\n",
       "      <td>152.0</td>\n",
       "      <td>147.0</td>\n",
       "      <td>151.0</td>\n",
       "      <td>4.0</td>\n",
       "      <td>1.0</td>\n",
       "      <td>2.0</td>\n",
       "    </tr>\n",
       "    <tr>\n",
       "      <th>2125</th>\n",
       "      <td>142.0</td>\n",
       "      <td>0.002</td>\n",
       "      <td>0.002</td>\n",
       "      <td>0.008</td>\n",
       "      <td>0.000</td>\n",
       "      <td>0.0</td>\n",
       "      <td>0.0</td>\n",
       "      <td>74.0</td>\n",
       "      <td>0.4</td>\n",
       "      <td>36.0</td>\n",
       "      <td>...</td>\n",
       "      <td>117.0</td>\n",
       "      <td>159.0</td>\n",
       "      <td>2.0</td>\n",
       "      <td>1.0</td>\n",
       "      <td>145.0</td>\n",
       "      <td>143.0</td>\n",
       "      <td>145.0</td>\n",
       "      <td>1.0</td>\n",
       "      <td>0.0</td>\n",
       "      <td>1.0</td>\n",
       "    </tr>\n",
       "  </tbody>\n",
       "</table>\n",
       "<p>2126 rows × 22 columns</p>\n",
       "</div>"
      ],
      "text/plain": [
       "      baseline value  accelerations  fetal_movement  uterine_contractions  \\\n",
       "0              120.0          0.000           0.000                 0.000   \n",
       "1              132.0          0.006           0.000                 0.006   \n",
       "2              133.0          0.003           0.000                 0.008   \n",
       "3              134.0          0.003           0.000                 0.008   \n",
       "4              132.0          0.007           0.000                 0.008   \n",
       "...              ...            ...             ...                   ...   \n",
       "2121           140.0          0.000           0.000                 0.007   \n",
       "2122           140.0          0.001           0.000                 0.007   \n",
       "2123           140.0          0.001           0.000                 0.007   \n",
       "2124           140.0          0.001           0.000                 0.006   \n",
       "2125           142.0          0.002           0.002                 0.008   \n",
       "\n",
       "      light_decelerations  severe_decelerations  prolongued_decelerations  \\\n",
       "0                   0.000                   0.0                       0.0   \n",
       "1                   0.003                   0.0                       0.0   \n",
       "2                   0.003                   0.0                       0.0   \n",
       "3                   0.003                   0.0                       0.0   \n",
       "4                   0.000                   0.0                       0.0   \n",
       "...                   ...                   ...                       ...   \n",
       "2121                0.000                   0.0                       0.0   \n",
       "2122                0.000                   0.0                       0.0   \n",
       "2123                0.000                   0.0                       0.0   \n",
       "2124                0.000                   0.0                       0.0   \n",
       "2125                0.000                   0.0                       0.0   \n",
       "\n",
       "      abnormal_short_term_variability  mean_value_of_short_term_variability  \\\n",
       "0                                73.0                                   0.5   \n",
       "1                                17.0                                   2.1   \n",
       "2                                16.0                                   2.1   \n",
       "3                                16.0                                   2.4   \n",
       "4                                16.0                                   2.4   \n",
       "...                               ...                                   ...   \n",
       "2121                             79.0                                   0.2   \n",
       "2122                             78.0                                   0.4   \n",
       "2123                             79.0                                   0.4   \n",
       "2124                             78.0                                   0.4   \n",
       "2125                             74.0                                   0.4   \n",
       "\n",
       "      percentage_of_time_with_abnormal_long_term_variability  ...  \\\n",
       "0                                                  43.0       ...   \n",
       "1                                                   0.0       ...   \n",
       "2                                                   0.0       ...   \n",
       "3                                                   0.0       ...   \n",
       "4                                                   0.0       ...   \n",
       "...                                                 ...       ...   \n",
       "2121                                               25.0       ...   \n",
       "2122                                               22.0       ...   \n",
       "2123                                               20.0       ...   \n",
       "2124                                               27.0       ...   \n",
       "2125                                               36.0       ...   \n",
       "\n",
       "      histogram_min  histogram_max  histogram_number_of_peaks  \\\n",
       "0              62.0          126.0                        2.0   \n",
       "1              68.0          198.0                        6.0   \n",
       "2              68.0          198.0                        5.0   \n",
       "3              53.0          170.0                       11.0   \n",
       "4              53.0          170.0                        9.0   \n",
       "...             ...            ...                        ...   \n",
       "2121          137.0          177.0                        4.0   \n",
       "2122          103.0          169.0                        6.0   \n",
       "2123          103.0          170.0                        5.0   \n",
       "2124          103.0          169.0                        6.0   \n",
       "2125          117.0          159.0                        2.0   \n",
       "\n",
       "      histogram_number_of_zeroes  histogram_mode  histogram_mean  \\\n",
       "0                            0.0           120.0           137.0   \n",
       "1                            1.0           141.0           136.0   \n",
       "2                            1.0           141.0           135.0   \n",
       "3                            0.0           137.0           134.0   \n",
       "4                            0.0           137.0           136.0   \n",
       "...                          ...             ...             ...   \n",
       "2121                         0.0           153.0           150.0   \n",
       "2122                         0.0           152.0           148.0   \n",
       "2123                         0.0           153.0           148.0   \n",
       "2124                         0.0           152.0           147.0   \n",
       "2125                         1.0           145.0           143.0   \n",
       "\n",
       "      histogram_median  histogram_variance  histogram_tendency  fetal_health  \n",
       "0                121.0                73.0                 1.0           2.0  \n",
       "1                140.0                12.0                 0.0           1.0  \n",
       "2                138.0                13.0                 0.0           1.0  \n",
       "3                137.0                13.0                 1.0           1.0  \n",
       "4                138.0                11.0                 1.0           1.0  \n",
       "...                ...                 ...                 ...           ...  \n",
       "2121             152.0                 2.0                 0.0           2.0  \n",
       "2122             151.0                 3.0                 1.0           2.0  \n",
       "2123             152.0                 4.0                 1.0           2.0  \n",
       "2124             151.0                 4.0                 1.0           2.0  \n",
       "2125             145.0                 1.0                 0.0           1.0  \n",
       "\n",
       "[2126 rows x 22 columns]"
      ]
     },
     "execution_count": 4,
     "metadata": {},
     "output_type": "execute_result"
    }
   ],
   "source": [
    "data = pd.read_csv('fetal_health.csv')      # load data set\n",
    "data"
   ]
  },
  {
   "cell_type": "markdown",
   "id": "baaafd4e",
   "metadata": {},
   "source": [
    "## Exploratory Data Analysis (EDA) and Analysis\n",
    "In this step we want to get basic information about the data types, columns, null value counts, memory usage, etc. EDA is for seeing what the data can tell us beyond the formal modeling or hypothesis testing task."
   ]
  },
  {
   "cell_type": "code",
   "execution_count": 5,
   "id": "1fadefa6",
   "metadata": {},
   "outputs": [
    {
     "data": {
      "text/html": [
       "<div>\n",
       "<style scoped>\n",
       "    .dataframe tbody tr th:only-of-type {\n",
       "        vertical-align: middle;\n",
       "    }\n",
       "\n",
       "    .dataframe tbody tr th {\n",
       "        vertical-align: top;\n",
       "    }\n",
       "\n",
       "    .dataframe thead th {\n",
       "        text-align: right;\n",
       "    }\n",
       "</style>\n",
       "<table border=\"1\" class=\"dataframe\">\n",
       "  <thead>\n",
       "    <tr style=\"text-align: right;\">\n",
       "      <th></th>\n",
       "      <th>baseline value</th>\n",
       "      <th>accelerations</th>\n",
       "      <th>fetal_movement</th>\n",
       "      <th>uterine_contractions</th>\n",
       "      <th>light_decelerations</th>\n",
       "      <th>severe_decelerations</th>\n",
       "      <th>prolongued_decelerations</th>\n",
       "      <th>abnormal_short_term_variability</th>\n",
       "      <th>mean_value_of_short_term_variability</th>\n",
       "      <th>percentage_of_time_with_abnormal_long_term_variability</th>\n",
       "      <th>...</th>\n",
       "      <th>histogram_min</th>\n",
       "      <th>histogram_max</th>\n",
       "      <th>histogram_number_of_peaks</th>\n",
       "      <th>histogram_number_of_zeroes</th>\n",
       "      <th>histogram_mode</th>\n",
       "      <th>histogram_mean</th>\n",
       "      <th>histogram_median</th>\n",
       "      <th>histogram_variance</th>\n",
       "      <th>histogram_tendency</th>\n",
       "      <th>fetal_health</th>\n",
       "    </tr>\n",
       "  </thead>\n",
       "  <tbody>\n",
       "    <tr>\n",
       "      <th>0</th>\n",
       "      <td>120.0</td>\n",
       "      <td>0.000</td>\n",
       "      <td>0.0</td>\n",
       "      <td>0.000</td>\n",
       "      <td>0.000</td>\n",
       "      <td>0.0</td>\n",
       "      <td>0.0</td>\n",
       "      <td>73.0</td>\n",
       "      <td>0.5</td>\n",
       "      <td>43.0</td>\n",
       "      <td>...</td>\n",
       "      <td>62.0</td>\n",
       "      <td>126.0</td>\n",
       "      <td>2.0</td>\n",
       "      <td>0.0</td>\n",
       "      <td>120.0</td>\n",
       "      <td>137.0</td>\n",
       "      <td>121.0</td>\n",
       "      <td>73.0</td>\n",
       "      <td>1.0</td>\n",
       "      <td>2.0</td>\n",
       "    </tr>\n",
       "    <tr>\n",
       "      <th>1</th>\n",
       "      <td>132.0</td>\n",
       "      <td>0.006</td>\n",
       "      <td>0.0</td>\n",
       "      <td>0.006</td>\n",
       "      <td>0.003</td>\n",
       "      <td>0.0</td>\n",
       "      <td>0.0</td>\n",
       "      <td>17.0</td>\n",
       "      <td>2.1</td>\n",
       "      <td>0.0</td>\n",
       "      <td>...</td>\n",
       "      <td>68.0</td>\n",
       "      <td>198.0</td>\n",
       "      <td>6.0</td>\n",
       "      <td>1.0</td>\n",
       "      <td>141.0</td>\n",
       "      <td>136.0</td>\n",
       "      <td>140.0</td>\n",
       "      <td>12.0</td>\n",
       "      <td>0.0</td>\n",
       "      <td>1.0</td>\n",
       "    </tr>\n",
       "    <tr>\n",
       "      <th>2</th>\n",
       "      <td>133.0</td>\n",
       "      <td>0.003</td>\n",
       "      <td>0.0</td>\n",
       "      <td>0.008</td>\n",
       "      <td>0.003</td>\n",
       "      <td>0.0</td>\n",
       "      <td>0.0</td>\n",
       "      <td>16.0</td>\n",
       "      <td>2.1</td>\n",
       "      <td>0.0</td>\n",
       "      <td>...</td>\n",
       "      <td>68.0</td>\n",
       "      <td>198.0</td>\n",
       "      <td>5.0</td>\n",
       "      <td>1.0</td>\n",
       "      <td>141.0</td>\n",
       "      <td>135.0</td>\n",
       "      <td>138.0</td>\n",
       "      <td>13.0</td>\n",
       "      <td>0.0</td>\n",
       "      <td>1.0</td>\n",
       "    </tr>\n",
       "    <tr>\n",
       "      <th>3</th>\n",
       "      <td>134.0</td>\n",
       "      <td>0.003</td>\n",
       "      <td>0.0</td>\n",
       "      <td>0.008</td>\n",
       "      <td>0.003</td>\n",
       "      <td>0.0</td>\n",
       "      <td>0.0</td>\n",
       "      <td>16.0</td>\n",
       "      <td>2.4</td>\n",
       "      <td>0.0</td>\n",
       "      <td>...</td>\n",
       "      <td>53.0</td>\n",
       "      <td>170.0</td>\n",
       "      <td>11.0</td>\n",
       "      <td>0.0</td>\n",
       "      <td>137.0</td>\n",
       "      <td>134.0</td>\n",
       "      <td>137.0</td>\n",
       "      <td>13.0</td>\n",
       "      <td>1.0</td>\n",
       "      <td>1.0</td>\n",
       "    </tr>\n",
       "    <tr>\n",
       "      <th>4</th>\n",
       "      <td>132.0</td>\n",
       "      <td>0.007</td>\n",
       "      <td>0.0</td>\n",
       "      <td>0.008</td>\n",
       "      <td>0.000</td>\n",
       "      <td>0.0</td>\n",
       "      <td>0.0</td>\n",
       "      <td>16.0</td>\n",
       "      <td>2.4</td>\n",
       "      <td>0.0</td>\n",
       "      <td>...</td>\n",
       "      <td>53.0</td>\n",
       "      <td>170.0</td>\n",
       "      <td>9.0</td>\n",
       "      <td>0.0</td>\n",
       "      <td>137.0</td>\n",
       "      <td>136.0</td>\n",
       "      <td>138.0</td>\n",
       "      <td>11.0</td>\n",
       "      <td>1.0</td>\n",
       "      <td>1.0</td>\n",
       "    </tr>\n",
       "  </tbody>\n",
       "</table>\n",
       "<p>5 rows × 22 columns</p>\n",
       "</div>"
      ],
      "text/plain": [
       "   baseline value  accelerations  fetal_movement  uterine_contractions  \\\n",
       "0           120.0          0.000             0.0                 0.000   \n",
       "1           132.0          0.006             0.0                 0.006   \n",
       "2           133.0          0.003             0.0                 0.008   \n",
       "3           134.0          0.003             0.0                 0.008   \n",
       "4           132.0          0.007             0.0                 0.008   \n",
       "\n",
       "   light_decelerations  severe_decelerations  prolongued_decelerations  \\\n",
       "0                0.000                   0.0                       0.0   \n",
       "1                0.003                   0.0                       0.0   \n",
       "2                0.003                   0.0                       0.0   \n",
       "3                0.003                   0.0                       0.0   \n",
       "4                0.000                   0.0                       0.0   \n",
       "\n",
       "   abnormal_short_term_variability  mean_value_of_short_term_variability  \\\n",
       "0                             73.0                                   0.5   \n",
       "1                             17.0                                   2.1   \n",
       "2                             16.0                                   2.1   \n",
       "3                             16.0                                   2.4   \n",
       "4                             16.0                                   2.4   \n",
       "\n",
       "   percentage_of_time_with_abnormal_long_term_variability  ...  histogram_min  \\\n",
       "0                                               43.0       ...           62.0   \n",
       "1                                                0.0       ...           68.0   \n",
       "2                                                0.0       ...           68.0   \n",
       "3                                                0.0       ...           53.0   \n",
       "4                                                0.0       ...           53.0   \n",
       "\n",
       "   histogram_max  histogram_number_of_peaks  histogram_number_of_zeroes  \\\n",
       "0          126.0                        2.0                         0.0   \n",
       "1          198.0                        6.0                         1.0   \n",
       "2          198.0                        5.0                         1.0   \n",
       "3          170.0                       11.0                         0.0   \n",
       "4          170.0                        9.0                         0.0   \n",
       "\n",
       "   histogram_mode  histogram_mean  histogram_median  histogram_variance  \\\n",
       "0           120.0           137.0             121.0                73.0   \n",
       "1           141.0           136.0             140.0                12.0   \n",
       "2           141.0           135.0             138.0                13.0   \n",
       "3           137.0           134.0             137.0                13.0   \n",
       "4           137.0           136.0             138.0                11.0   \n",
       "\n",
       "   histogram_tendency  fetal_health  \n",
       "0                 1.0           2.0  \n",
       "1                 0.0           1.0  \n",
       "2                 0.0           1.0  \n",
       "3                 1.0           1.0  \n",
       "4                 1.0           1.0  \n",
       "\n",
       "[5 rows x 22 columns]"
      ]
     },
     "execution_count": 5,
     "metadata": {},
     "output_type": "execute_result"
    }
   ],
   "source": [
    "data.head()"
   ]
  },
  {
   "cell_type": "code",
   "execution_count": 6,
   "id": "5b3f462b",
   "metadata": {},
   "outputs": [
    {
     "name": "stdout",
     "output_type": "stream",
     "text": [
      "Dataset Columns:\n",
      "Index(['baseline value', 'accelerations', 'fetal_movement',\n",
      "       'uterine_contractions', 'light_decelerations', 'severe_decelerations',\n",
      "       'prolongued_decelerations', 'abnormal_short_term_variability',\n",
      "       'mean_value_of_short_term_variability',\n",
      "       'percentage_of_time_with_abnormal_long_term_variability',\n",
      "       'mean_value_of_long_term_variability', 'histogram_width',\n",
      "       'histogram_min', 'histogram_max', 'histogram_number_of_peaks',\n",
      "       'histogram_number_of_zeroes', 'histogram_mode', 'histogram_mean',\n",
      "       'histogram_median', 'histogram_variance', 'histogram_tendency',\n",
      "       'fetal_health'],\n",
      "      dtype='object')\n"
     ]
    }
   ],
   "source": [
    "print(f\"Dataset Columns:\\n{data.columns}\")"
   ]
  },
  {
   "cell_type": "markdown",
   "id": "5a736584",
   "metadata": {},
   "source": [
    "## DataFrame.describe() \n",
    "\n",
    "method generates descriptive statistics for only numeric values not for categorical values. This method summarizes the central tendency, dispersion, and shape of a dataset’s distribution, excluding NaN values.\n",
    "\n",
    "Now, let's understand the statistics that are generated by the describe() method:\n",
    "\n",
    "Count tells us the number of NoN-empty rows in a feature. As we can see there are no NoN-empty rows.\n",
    "Mean tells us the mean value of that feature.\n",
    "Std tells us the Standard Deviation Value of that feature.\n",
    "Min tells us the minimum value of that feature.\n",
    "25%, 50%, and 75% are the percentile/quartile of each features. This quartile information helps us to detect Outliers.\n",
    "Max tells us the maximum value of that feature."
   ]
  },
  {
   "cell_type": "code",
   "execution_count": 7,
   "id": "04f34f46",
   "metadata": {},
   "outputs": [
    {
     "data": {
      "text/html": [
       "<div>\n",
       "<style scoped>\n",
       "    .dataframe tbody tr th:only-of-type {\n",
       "        vertical-align: middle;\n",
       "    }\n",
       "\n",
       "    .dataframe tbody tr th {\n",
       "        vertical-align: top;\n",
       "    }\n",
       "\n",
       "    .dataframe thead th {\n",
       "        text-align: right;\n",
       "    }\n",
       "</style>\n",
       "<table border=\"1\" class=\"dataframe\">\n",
       "  <thead>\n",
       "    <tr style=\"text-align: right;\">\n",
       "      <th></th>\n",
       "      <th>count</th>\n",
       "      <th>mean</th>\n",
       "      <th>std</th>\n",
       "      <th>min</th>\n",
       "      <th>25%</th>\n",
       "      <th>50%</th>\n",
       "      <th>75%</th>\n",
       "      <th>max</th>\n",
       "    </tr>\n",
       "  </thead>\n",
       "  <tbody>\n",
       "    <tr>\n",
       "      <th>baseline value</th>\n",
       "      <td>2126.0</td>\n",
       "      <td>133.303857</td>\n",
       "      <td>9.840844</td>\n",
       "      <td>106.0</td>\n",
       "      <td>126.000</td>\n",
       "      <td>133.000</td>\n",
       "      <td>140.000</td>\n",
       "      <td>160.000</td>\n",
       "    </tr>\n",
       "    <tr>\n",
       "      <th>accelerations</th>\n",
       "      <td>2126.0</td>\n",
       "      <td>0.003178</td>\n",
       "      <td>0.003866</td>\n",
       "      <td>0.0</td>\n",
       "      <td>0.000</td>\n",
       "      <td>0.002</td>\n",
       "      <td>0.006</td>\n",
       "      <td>0.019</td>\n",
       "    </tr>\n",
       "    <tr>\n",
       "      <th>fetal_movement</th>\n",
       "      <td>2126.0</td>\n",
       "      <td>0.009481</td>\n",
       "      <td>0.046666</td>\n",
       "      <td>0.0</td>\n",
       "      <td>0.000</td>\n",
       "      <td>0.000</td>\n",
       "      <td>0.003</td>\n",
       "      <td>0.481</td>\n",
       "    </tr>\n",
       "    <tr>\n",
       "      <th>uterine_contractions</th>\n",
       "      <td>2126.0</td>\n",
       "      <td>0.004366</td>\n",
       "      <td>0.002946</td>\n",
       "      <td>0.0</td>\n",
       "      <td>0.002</td>\n",
       "      <td>0.004</td>\n",
       "      <td>0.007</td>\n",
       "      <td>0.015</td>\n",
       "    </tr>\n",
       "    <tr>\n",
       "      <th>light_decelerations</th>\n",
       "      <td>2126.0</td>\n",
       "      <td>0.001889</td>\n",
       "      <td>0.002960</td>\n",
       "      <td>0.0</td>\n",
       "      <td>0.000</td>\n",
       "      <td>0.000</td>\n",
       "      <td>0.003</td>\n",
       "      <td>0.015</td>\n",
       "    </tr>\n",
       "    <tr>\n",
       "      <th>severe_decelerations</th>\n",
       "      <td>2126.0</td>\n",
       "      <td>0.000003</td>\n",
       "      <td>0.000057</td>\n",
       "      <td>0.0</td>\n",
       "      <td>0.000</td>\n",
       "      <td>0.000</td>\n",
       "      <td>0.000</td>\n",
       "      <td>0.001</td>\n",
       "    </tr>\n",
       "    <tr>\n",
       "      <th>prolongued_decelerations</th>\n",
       "      <td>2126.0</td>\n",
       "      <td>0.000159</td>\n",
       "      <td>0.000590</td>\n",
       "      <td>0.0</td>\n",
       "      <td>0.000</td>\n",
       "      <td>0.000</td>\n",
       "      <td>0.000</td>\n",
       "      <td>0.005</td>\n",
       "    </tr>\n",
       "    <tr>\n",
       "      <th>abnormal_short_term_variability</th>\n",
       "      <td>2126.0</td>\n",
       "      <td>46.990122</td>\n",
       "      <td>17.192814</td>\n",
       "      <td>12.0</td>\n",
       "      <td>32.000</td>\n",
       "      <td>49.000</td>\n",
       "      <td>61.000</td>\n",
       "      <td>87.000</td>\n",
       "    </tr>\n",
       "    <tr>\n",
       "      <th>mean_value_of_short_term_variability</th>\n",
       "      <td>2126.0</td>\n",
       "      <td>1.332785</td>\n",
       "      <td>0.883241</td>\n",
       "      <td>0.2</td>\n",
       "      <td>0.700</td>\n",
       "      <td>1.200</td>\n",
       "      <td>1.700</td>\n",
       "      <td>7.000</td>\n",
       "    </tr>\n",
       "    <tr>\n",
       "      <th>percentage_of_time_with_abnormal_long_term_variability</th>\n",
       "      <td>2126.0</td>\n",
       "      <td>9.846660</td>\n",
       "      <td>18.396880</td>\n",
       "      <td>0.0</td>\n",
       "      <td>0.000</td>\n",
       "      <td>0.000</td>\n",
       "      <td>11.000</td>\n",
       "      <td>91.000</td>\n",
       "    </tr>\n",
       "    <tr>\n",
       "      <th>mean_value_of_long_term_variability</th>\n",
       "      <td>2126.0</td>\n",
       "      <td>8.187629</td>\n",
       "      <td>5.628247</td>\n",
       "      <td>0.0</td>\n",
       "      <td>4.600</td>\n",
       "      <td>7.400</td>\n",
       "      <td>10.800</td>\n",
       "      <td>50.700</td>\n",
       "    </tr>\n",
       "    <tr>\n",
       "      <th>histogram_width</th>\n",
       "      <td>2126.0</td>\n",
       "      <td>70.445908</td>\n",
       "      <td>38.955693</td>\n",
       "      <td>3.0</td>\n",
       "      <td>37.000</td>\n",
       "      <td>67.500</td>\n",
       "      <td>100.000</td>\n",
       "      <td>180.000</td>\n",
       "    </tr>\n",
       "    <tr>\n",
       "      <th>histogram_min</th>\n",
       "      <td>2126.0</td>\n",
       "      <td>93.579492</td>\n",
       "      <td>29.560212</td>\n",
       "      <td>50.0</td>\n",
       "      <td>67.000</td>\n",
       "      <td>93.000</td>\n",
       "      <td>120.000</td>\n",
       "      <td>159.000</td>\n",
       "    </tr>\n",
       "    <tr>\n",
       "      <th>histogram_max</th>\n",
       "      <td>2126.0</td>\n",
       "      <td>164.025400</td>\n",
       "      <td>17.944183</td>\n",
       "      <td>122.0</td>\n",
       "      <td>152.000</td>\n",
       "      <td>162.000</td>\n",
       "      <td>174.000</td>\n",
       "      <td>238.000</td>\n",
       "    </tr>\n",
       "    <tr>\n",
       "      <th>histogram_number_of_peaks</th>\n",
       "      <td>2126.0</td>\n",
       "      <td>4.068203</td>\n",
       "      <td>2.949386</td>\n",
       "      <td>0.0</td>\n",
       "      <td>2.000</td>\n",
       "      <td>3.000</td>\n",
       "      <td>6.000</td>\n",
       "      <td>18.000</td>\n",
       "    </tr>\n",
       "    <tr>\n",
       "      <th>histogram_number_of_zeroes</th>\n",
       "      <td>2126.0</td>\n",
       "      <td>0.323612</td>\n",
       "      <td>0.706059</td>\n",
       "      <td>0.0</td>\n",
       "      <td>0.000</td>\n",
       "      <td>0.000</td>\n",
       "      <td>0.000</td>\n",
       "      <td>10.000</td>\n",
       "    </tr>\n",
       "    <tr>\n",
       "      <th>histogram_mode</th>\n",
       "      <td>2126.0</td>\n",
       "      <td>137.452023</td>\n",
       "      <td>16.381289</td>\n",
       "      <td>60.0</td>\n",
       "      <td>129.000</td>\n",
       "      <td>139.000</td>\n",
       "      <td>148.000</td>\n",
       "      <td>187.000</td>\n",
       "    </tr>\n",
       "    <tr>\n",
       "      <th>histogram_mean</th>\n",
       "      <td>2126.0</td>\n",
       "      <td>134.610536</td>\n",
       "      <td>15.593596</td>\n",
       "      <td>73.0</td>\n",
       "      <td>125.000</td>\n",
       "      <td>136.000</td>\n",
       "      <td>145.000</td>\n",
       "      <td>182.000</td>\n",
       "    </tr>\n",
       "    <tr>\n",
       "      <th>histogram_median</th>\n",
       "      <td>2126.0</td>\n",
       "      <td>138.090310</td>\n",
       "      <td>14.466589</td>\n",
       "      <td>77.0</td>\n",
       "      <td>129.000</td>\n",
       "      <td>139.000</td>\n",
       "      <td>148.000</td>\n",
       "      <td>186.000</td>\n",
       "    </tr>\n",
       "    <tr>\n",
       "      <th>histogram_variance</th>\n",
       "      <td>2126.0</td>\n",
       "      <td>18.808090</td>\n",
       "      <td>28.977636</td>\n",
       "      <td>0.0</td>\n",
       "      <td>2.000</td>\n",
       "      <td>7.000</td>\n",
       "      <td>24.000</td>\n",
       "      <td>269.000</td>\n",
       "    </tr>\n",
       "    <tr>\n",
       "      <th>histogram_tendency</th>\n",
       "      <td>2126.0</td>\n",
       "      <td>0.320320</td>\n",
       "      <td>0.610829</td>\n",
       "      <td>-1.0</td>\n",
       "      <td>0.000</td>\n",
       "      <td>0.000</td>\n",
       "      <td>1.000</td>\n",
       "      <td>1.000</td>\n",
       "    </tr>\n",
       "    <tr>\n",
       "      <th>fetal_health</th>\n",
       "      <td>2126.0</td>\n",
       "      <td>1.304327</td>\n",
       "      <td>0.614377</td>\n",
       "      <td>1.0</td>\n",
       "      <td>1.000</td>\n",
       "      <td>1.000</td>\n",
       "      <td>1.000</td>\n",
       "      <td>3.000</td>\n",
       "    </tr>\n",
       "  </tbody>\n",
       "</table>\n",
       "</div>"
      ],
      "text/plain": [
       "                                                     count        mean  \\\n",
       "baseline value                                      2126.0  133.303857   \n",
       "accelerations                                       2126.0    0.003178   \n",
       "fetal_movement                                      2126.0    0.009481   \n",
       "uterine_contractions                                2126.0    0.004366   \n",
       "light_decelerations                                 2126.0    0.001889   \n",
       "severe_decelerations                                2126.0    0.000003   \n",
       "prolongued_decelerations                            2126.0    0.000159   \n",
       "abnormal_short_term_variability                     2126.0   46.990122   \n",
       "mean_value_of_short_term_variability                2126.0    1.332785   \n",
       "percentage_of_time_with_abnormal_long_term_vari...  2126.0    9.846660   \n",
       "mean_value_of_long_term_variability                 2126.0    8.187629   \n",
       "histogram_width                                     2126.0   70.445908   \n",
       "histogram_min                                       2126.0   93.579492   \n",
       "histogram_max                                       2126.0  164.025400   \n",
       "histogram_number_of_peaks                           2126.0    4.068203   \n",
       "histogram_number_of_zeroes                          2126.0    0.323612   \n",
       "histogram_mode                                      2126.0  137.452023   \n",
       "histogram_mean                                      2126.0  134.610536   \n",
       "histogram_median                                    2126.0  138.090310   \n",
       "histogram_variance                                  2126.0   18.808090   \n",
       "histogram_tendency                                  2126.0    0.320320   \n",
       "fetal_health                                        2126.0    1.304327   \n",
       "\n",
       "                                                          std    min      25%  \\\n",
       "baseline value                                       9.840844  106.0  126.000   \n",
       "accelerations                                        0.003866    0.0    0.000   \n",
       "fetal_movement                                       0.046666    0.0    0.000   \n",
       "uterine_contractions                                 0.002946    0.0    0.002   \n",
       "light_decelerations                                  0.002960    0.0    0.000   \n",
       "severe_decelerations                                 0.000057    0.0    0.000   \n",
       "prolongued_decelerations                             0.000590    0.0    0.000   \n",
       "abnormal_short_term_variability                     17.192814   12.0   32.000   \n",
       "mean_value_of_short_term_variability                 0.883241    0.2    0.700   \n",
       "percentage_of_time_with_abnormal_long_term_vari...  18.396880    0.0    0.000   \n",
       "mean_value_of_long_term_variability                  5.628247    0.0    4.600   \n",
       "histogram_width                                     38.955693    3.0   37.000   \n",
       "histogram_min                                       29.560212   50.0   67.000   \n",
       "histogram_max                                       17.944183  122.0  152.000   \n",
       "histogram_number_of_peaks                            2.949386    0.0    2.000   \n",
       "histogram_number_of_zeroes                           0.706059    0.0    0.000   \n",
       "histogram_mode                                      16.381289   60.0  129.000   \n",
       "histogram_mean                                      15.593596   73.0  125.000   \n",
       "histogram_median                                    14.466589   77.0  129.000   \n",
       "histogram_variance                                  28.977636    0.0    2.000   \n",
       "histogram_tendency                                   0.610829   -1.0    0.000   \n",
       "fetal_health                                         0.614377    1.0    1.000   \n",
       "\n",
       "                                                        50%      75%      max  \n",
       "baseline value                                      133.000  140.000  160.000  \n",
       "accelerations                                         0.002    0.006    0.019  \n",
       "fetal_movement                                        0.000    0.003    0.481  \n",
       "uterine_contractions                                  0.004    0.007    0.015  \n",
       "light_decelerations                                   0.000    0.003    0.015  \n",
       "severe_decelerations                                  0.000    0.000    0.001  \n",
       "prolongued_decelerations                              0.000    0.000    0.005  \n",
       "abnormal_short_term_variability                      49.000   61.000   87.000  \n",
       "mean_value_of_short_term_variability                  1.200    1.700    7.000  \n",
       "percentage_of_time_with_abnormal_long_term_vari...    0.000   11.000   91.000  \n",
       "mean_value_of_long_term_variability                   7.400   10.800   50.700  \n",
       "histogram_width                                      67.500  100.000  180.000  \n",
       "histogram_min                                        93.000  120.000  159.000  \n",
       "histogram_max                                       162.000  174.000  238.000  \n",
       "histogram_number_of_peaks                             3.000    6.000   18.000  \n",
       "histogram_number_of_zeroes                            0.000    0.000   10.000  \n",
       "histogram_mode                                      139.000  148.000  187.000  \n",
       "histogram_mean                                      136.000  145.000  182.000  \n",
       "histogram_median                                    139.000  148.000  186.000  \n",
       "histogram_variance                                    7.000   24.000  269.000  \n",
       "histogram_tendency                                    0.000    1.000    1.000  \n",
       "fetal_health                                          1.000    1.000    3.000  "
      ]
     },
     "execution_count": 7,
     "metadata": {},
     "output_type": "execute_result"
    }
   ],
   "source": [
    "data.describe().T"
   ]
  },
  {
   "cell_type": "markdown",
   "id": "00462e0a",
   "metadata": {},
   "source": [
    "## DataFrame.info()\n",
    "method prints a concise summary of a DataFrame.\n",
    "This method prints information about a DataFrame including the index dtype and columns, non-null values and memory usage."
   ]
  },
  {
   "cell_type": "code",
   "execution_count": 8,
   "id": "dc069a0a",
   "metadata": {},
   "outputs": [
    {
     "name": "stdout",
     "output_type": "stream",
     "text": [
      "<class 'pandas.core.frame.DataFrame'>\n",
      "RangeIndex: 2126 entries, 0 to 2125\n",
      "Data columns (total 22 columns):\n",
      " #   Column                                                  Non-Null Count  Dtype  \n",
      "---  ------                                                  --------------  -----  \n",
      " 0   baseline value                                          2126 non-null   float64\n",
      " 1   accelerations                                           2126 non-null   float64\n",
      " 2   fetal_movement                                          2126 non-null   float64\n",
      " 3   uterine_contractions                                    2126 non-null   float64\n",
      " 4   light_decelerations                                     2126 non-null   float64\n",
      " 5   severe_decelerations                                    2126 non-null   float64\n",
      " 6   prolongued_decelerations                                2126 non-null   float64\n",
      " 7   abnormal_short_term_variability                         2126 non-null   float64\n",
      " 8   mean_value_of_short_term_variability                    2126 non-null   float64\n",
      " 9   percentage_of_time_with_abnormal_long_term_variability  2126 non-null   float64\n",
      " 10  mean_value_of_long_term_variability                     2126 non-null   float64\n",
      " 11  histogram_width                                         2126 non-null   float64\n",
      " 12  histogram_min                                           2126 non-null   float64\n",
      " 13  histogram_max                                           2126 non-null   float64\n",
      " 14  histogram_number_of_peaks                               2126 non-null   float64\n",
      " 15  histogram_number_of_zeroes                              2126 non-null   float64\n",
      " 16  histogram_mode                                          2126 non-null   float64\n",
      " 17  histogram_mean                                          2126 non-null   float64\n",
      " 18  histogram_median                                        2126 non-null   float64\n",
      " 19  histogram_variance                                      2126 non-null   float64\n",
      " 20  histogram_tendency                                      2126 non-null   float64\n",
      " 21  fetal_health                                            2126 non-null   float64\n",
      "dtypes: float64(22)\n",
      "memory usage: 365.5 KB\n"
     ]
    }
   ],
   "source": [
    "data.info(verbose=True)"
   ]
  },
  {
   "cell_type": "code",
   "execution_count": 9,
   "id": "17bc51a5",
   "metadata": {},
   "outputs": [
    {
     "name": "stdout",
     "output_type": "stream",
     "text": [
      "The dataset size: (2126, 22)\n"
     ]
    }
   ],
   "source": [
    "print(f\"The dataset size: {data.shape}\")"
   ]
  },
  {
   "cell_type": "markdown",
   "id": "051ac5dd",
   "metadata": {},
   "source": [
    "## Count the missing and null values\n",
    "Here is good to count the missing and null values.\n",
    "In the case of a real-world dataset, it is very common that some values in the dataset are missing.\n",
    "We represent these missing values as NaN (Not a Number) values. \n",
    "But to build a good machine learning model our dataset should be complete. \n",
    "That’s why we use some imputation techniques to replace the NaN values with some probable values."
   ]
  },
  {
   "cell_type": "code",
   "execution_count": 10,
   "id": "fcfbf330",
   "metadata": {},
   "outputs": [
    {
     "name": "stdout",
     "output_type": "stream",
     "text": [
      "Missing values:\n",
      "Series([], dtype: float64)\n",
      "Null values:\n",
      "Series([], dtype: float64)\n"
     ]
    }
   ],
   "source": [
    "miss_values = data.columns[data.isnull().any()]\n",
    "print(f\"Missing values:\\n{data[miss_values].isnull().sum()}\")\n",
    "\n",
    "null_values = data.columns[data.isna().any()]\n",
    "print(f\"Null values:\\n{data[null_values].isna().sum()}\")"
   ]
  },
  {
   "cell_type": "markdown",
   "id": "15339baf",
   "metadata": {},
   "source": [
    "## Analyze and visualize the target column (fetal_health)\n",
    "We use the describe() method for our target column to show the descriptive statistics\n",
    "include those that summarize the central tendency, dispersion, and shape of a dataset’s distribution, excluding NaN values."
   ]
  },
  {
   "cell_type": "code",
   "execution_count": 16,
   "id": "04da4fec",
   "metadata": {},
   "outputs": [
    {
     "data": {
      "text/plain": [
       "count    2126.000000\n",
       "mean        1.304327\n",
       "std         0.614377\n",
       "min         1.000000\n",
       "25%         1.000000\n",
       "50%         1.000000\n",
       "75%         1.000000\n",
       "max         3.000000\n",
       "Name: fetal_health, dtype: float64"
      ]
     },
     "execution_count": 16,
     "metadata": {},
     "output_type": "execute_result"
    }
   ],
   "source": [
    "data[\"fetal_health\"].describe()"
   ]
  },
  {
   "cell_type": "markdown",
   "id": "492d1071",
   "metadata": {},
   "source": [
    "Data visualizations of \"fetal_health\" column makes easier to understand the fetal state,\n",
    "and visualization also makes it easier to detect patterns of the fetal state (Normal, Suspect, Pathological)."
   ]
  },
  {
   "cell_type": "code",
   "execution_count": 56,
   "id": "1885c08c",
   "metadata": {},
   "outputs": [
    {
     "name": "stdout",
     "output_type": "stream",
     "text": [
      "1.0    1655\n",
      "2.0     295\n",
      "3.0     176\n",
      "Name: fetal_health, dtype: int64\n"
     ]
    },
    {
     "data": {
      "image/png": "[encoded data removed]",
      "text/plain": [
       "<Figure size 720x360 with 2 Axes>"
      ]
     },
     "metadata": {
      "needs_background": "light"
     },
     "output_type": "display_data"
    }
   ],
   "source": [
    "total = data[\"fetal_health\"].sum()\n",
    "normal = total - 471\n",
    "suspect = total - 1831\n",
    "pathological = total - 1950\n",
    "\n",
    "print(data[\"fetal_health\"].value_counts())\n",
    "\n",
    "plt.figure(figsize = (10,5))\n",
    "plt.subplot(121)\n",
    "# sns.countplot(x=\"fetal_health\", data=data)\n",
    "vis_fetal_health = data.fetal_health.value_counts().plot(figsize=(10, 5), kind=\"bar\", color = [\"#5F9EA0\", \"#B0E0E6\", \"#ADD8E6\"])\n",
    "plt.title(\"Fetal health count\")\n",
    "plt.xlabel(\"Fetal helth\")\n",
    "plt.ylabel(\"Cases\")\n",
    "\n",
    "\n",
    "plt.subplot(122)\n",
    "# plt.pie([normal, suspect, pathological], labels=[\"Normal\", \"Suspect\", \"Pathological\"], autopct=\"%1.0f%%\")\n",
    "plt.title(\"Fetal state\") \n",
    "\n",
    "vis_pie_fetal_health = plt.pie([normal, suspect, pathological], labels=[\"Normal\", \"Suspect\", \"Pathological\"], colors = [\"#5F9EA0\", \"#B0E0E6\", \"#ADD8E6\"], autopct=\"%1.0f%%\")\n",
    "plt.title(\"Fetal health count\")\n",
    "plt.xlabel(\"Fetal helth\")\n",
    "plt.ylabel(\"Cases\")\n",
    "plt.show()"
   ]
  },
  {
   "cell_type": "markdown",
   "id": "f6e6441d",
   "metadata": {},
   "source": [
    "## Heatmap\n",
    "A heat map is a two-dimensional representation of information with the help of colors. \n",
    "Heat maps can help the user visualize simple or complex information.\n",
    "Correlation heatmaps are ideal for comparing the measurement for each pair of dimension values."
   ]
  },
  {
   "cell_type": "code",
   "execution_count": 19,
   "id": "e6908bb0",
   "metadata": {},
   "outputs": [
    {
     "data": {
      "image/png": "[encoded data removed]",
      "text/plain": [
       "<Figure size 864x720 with 2 Axes>"
      ]
     },
     "metadata": {
      "needs_background": "light"
     },
     "output_type": "display_data"
    }
   ],
   "source": [
    "\n",
    "plt.figure(figsize=(12,10))  \n",
    "p=sns.heatmap(data.corr(), annot=True, cmap = \"GnBu\")  "
   ]
  },
  {
   "cell_type": "markdown",
   "id": "ae5e9566",
   "metadata": {},
   "source": [
    "## Scaling the data"
   ]
  },
  {
   "cell_type": "code",
   "execution_count": 20,
   "id": "8b72e4c8",
   "metadata": {},
   "outputs": [],
   "source": [
    "columns = ['baseline value', 'accelerations', 'fetal_movement',\n",
    "       'uterine_contractions', 'light_decelerations', 'severe_decelerations',\n",
    "       'prolongued_decelerations', 'abnormal_short_term_variability',\n",
    "       'mean_value_of_short_term_variability',\n",
    "       'percentage_of_time_with_abnormal_long_term_variability',\n",
    "       'mean_value_of_long_term_variability', 'histogram_width',\n",
    "       'histogram_min', 'histogram_max', 'histogram_number_of_peaks',\n",
    "       'histogram_number_of_zeroes', 'histogram_mode', 'histogram_mean',\n",
    "       'histogram_median', 'histogram_variance', 'histogram_tendency']\n",
    "scale_X = StandardScaler()\n",
    "X =  pd.DataFrame(scale_X.fit_transform(data.drop([\"fetal_health\"],axis = 1),), columns = columns)"
   ]
  },
  {
   "cell_type": "code",
   "execution_count": 21,
   "id": "ae6631ae",
   "metadata": {},
   "outputs": [
    {
     "data": {
      "text/html": [
       "<div>\n",
       "<style scoped>\n",
       "    .dataframe tbody tr th:only-of-type {\n",
       "        vertical-align: middle;\n",
       "    }\n",
       "\n",
       "    .dataframe tbody tr th {\n",
       "        vertical-align: top;\n",
       "    }\n",
       "\n",
       "    .dataframe thead th {\n",
       "        text-align: right;\n",
       "    }\n",
       "</style>\n",
       "<table border=\"1\" class=\"dataframe\">\n",
       "  <thead>\n",
       "    <tr style=\"text-align: right;\">\n",
       "      <th></th>\n",
       "      <th>baseline value</th>\n",
       "      <th>accelerations</th>\n",
       "      <th>fetal_movement</th>\n",
       "      <th>uterine_contractions</th>\n",
       "      <th>light_decelerations</th>\n",
       "      <th>severe_decelerations</th>\n",
       "      <th>prolongued_decelerations</th>\n",
       "      <th>abnormal_short_term_variability</th>\n",
       "      <th>mean_value_of_short_term_variability</th>\n",
       "      <th>percentage_of_time_with_abnormal_long_term_variability</th>\n",
       "      <th>...</th>\n",
       "      <th>histogram_width</th>\n",
       "      <th>histogram_min</th>\n",
       "      <th>histogram_max</th>\n",
       "      <th>histogram_number_of_peaks</th>\n",
       "      <th>histogram_number_of_zeroes</th>\n",
       "      <th>histogram_mode</th>\n",
       "      <th>histogram_mean</th>\n",
       "      <th>histogram_median</th>\n",
       "      <th>histogram_variance</th>\n",
       "      <th>histogram_tendency</th>\n",
       "    </tr>\n",
       "  </thead>\n",
       "  <tbody>\n",
       "    <tr>\n",
       "      <th>0</th>\n",
       "      <td>-1.352220</td>\n",
       "      <td>-0.822388</td>\n",
       "      <td>-0.20321</td>\n",
       "      <td>-1.482465</td>\n",
       "      <td>-0.638438</td>\n",
       "      <td>-0.057476</td>\n",
       "      <td>-0.268754</td>\n",
       "      <td>1.513190</td>\n",
       "      <td>-0.943095</td>\n",
       "      <td>1.802542</td>\n",
       "      <td>...</td>\n",
       "      <td>-0.165507</td>\n",
       "      <td>-1.068562</td>\n",
       "      <td>-2.119592</td>\n",
       "      <td>-0.701397</td>\n",
       "      <td>-0.458444</td>\n",
       "      <td>-1.065614</td>\n",
       "      <td>0.153270</td>\n",
       "      <td>-1.181642</td>\n",
       "      <td>1.870569</td>\n",
       "      <td>1.112980</td>\n",
       "    </tr>\n",
       "    <tr>\n",
       "      <th>1</th>\n",
       "      <td>-0.132526</td>\n",
       "      <td>0.730133</td>\n",
       "      <td>-0.20321</td>\n",
       "      <td>0.554627</td>\n",
       "      <td>0.375243</td>\n",
       "      <td>-0.057476</td>\n",
       "      <td>-0.268754</td>\n",
       "      <td>-1.744751</td>\n",
       "      <td>0.868841</td>\n",
       "      <td>-0.535361</td>\n",
       "      <td>...</td>\n",
       "      <td>1.529124</td>\n",
       "      <td>-0.865539</td>\n",
       "      <td>1.893794</td>\n",
       "      <td>0.655137</td>\n",
       "      <td>0.958201</td>\n",
       "      <td>0.216638</td>\n",
       "      <td>0.089126</td>\n",
       "      <td>0.132038</td>\n",
       "      <td>-0.234998</td>\n",
       "      <td>-0.524526</td>\n",
       "    </tr>\n",
       "    <tr>\n",
       "      <th>2</th>\n",
       "      <td>-0.030884</td>\n",
       "      <td>-0.046128</td>\n",
       "      <td>-0.20321</td>\n",
       "      <td>1.233657</td>\n",
       "      <td>0.375243</td>\n",
       "      <td>-0.057476</td>\n",
       "      <td>-0.268754</td>\n",
       "      <td>-1.802928</td>\n",
       "      <td>0.868841</td>\n",
       "      <td>-0.535361</td>\n",
       "      <td>...</td>\n",
       "      <td>1.529124</td>\n",
       "      <td>-0.865539</td>\n",
       "      <td>1.893794</td>\n",
       "      <td>0.316003</td>\n",
       "      <td>0.958201</td>\n",
       "      <td>0.216638</td>\n",
       "      <td>0.024982</td>\n",
       "      <td>-0.006244</td>\n",
       "      <td>-0.200481</td>\n",
       "      <td>-0.524526</td>\n",
       "    </tr>\n",
       "    <tr>\n",
       "      <th>3</th>\n",
       "      <td>0.070757</td>\n",
       "      <td>-0.046128</td>\n",
       "      <td>-0.20321</td>\n",
       "      <td>1.233657</td>\n",
       "      <td>0.375243</td>\n",
       "      <td>-0.057476</td>\n",
       "      <td>-0.268754</td>\n",
       "      <td>-1.802928</td>\n",
       "      <td>1.208579</td>\n",
       "      <td>-0.535361</td>\n",
       "      <td>...</td>\n",
       "      <td>1.195333</td>\n",
       "      <td>-1.373097</td>\n",
       "      <td>0.333033</td>\n",
       "      <td>2.350804</td>\n",
       "      <td>-0.458444</td>\n",
       "      <td>-0.027600</td>\n",
       "      <td>-0.039162</td>\n",
       "      <td>-0.075385</td>\n",
       "      <td>-0.200481</td>\n",
       "      <td>1.112980</td>\n",
       "    </tr>\n",
       "    <tr>\n",
       "      <th>4</th>\n",
       "      <td>-0.132526</td>\n",
       "      <td>0.988886</td>\n",
       "      <td>-0.20321</td>\n",
       "      <td>1.233657</td>\n",
       "      <td>-0.638438</td>\n",
       "      <td>-0.057476</td>\n",
       "      <td>-0.268754</td>\n",
       "      <td>-1.802928</td>\n",
       "      <td>1.208579</td>\n",
       "      <td>-0.535361</td>\n",
       "      <td>...</td>\n",
       "      <td>1.195333</td>\n",
       "      <td>-1.373097</td>\n",
       "      <td>0.333033</td>\n",
       "      <td>1.672537</td>\n",
       "      <td>-0.458444</td>\n",
       "      <td>-0.027600</td>\n",
       "      <td>0.089126</td>\n",
       "      <td>-0.006244</td>\n",
       "      <td>-0.269516</td>\n",
       "      <td>1.112980</td>\n",
       "    </tr>\n",
       "  </tbody>\n",
       "</table>\n",
       "<p>5 rows × 21 columns</p>\n",
       "</div>"
      ],
      "text/plain": [
       "   baseline value  accelerations  fetal_movement  uterine_contractions  \\\n",
       "0       -1.352220      -0.822388        -0.20321             -1.482465   \n",
       "1       -0.132526       0.730133        -0.20321              0.554627   \n",
       "2       -0.030884      -0.046128        -0.20321              1.233657   \n",
       "3        0.070757      -0.046128        -0.20321              1.233657   \n",
       "4       -0.132526       0.988886        -0.20321              1.233657   \n",
       "\n",
       "   light_decelerations  severe_decelerations  prolongued_decelerations  \\\n",
       "0            -0.638438             -0.057476                 -0.268754   \n",
       "1             0.375243             -0.057476                 -0.268754   \n",
       "2             0.375243             -0.057476                 -0.268754   \n",
       "3             0.375243             -0.057476                 -0.268754   \n",
       "4            -0.638438             -0.057476                 -0.268754   \n",
       "\n",
       "   abnormal_short_term_variability  mean_value_of_short_term_variability  \\\n",
       "0                         1.513190                             -0.943095   \n",
       "1                        -1.744751                              0.868841   \n",
       "2                        -1.802928                              0.868841   \n",
       "3                        -1.802928                              1.208579   \n",
       "4                        -1.802928                              1.208579   \n",
       "\n",
       "   percentage_of_time_with_abnormal_long_term_variability  ...  \\\n",
       "0                                           1.802542       ...   \n",
       "1                                          -0.535361       ...   \n",
       "2                                          -0.535361       ...   \n",
       "3                                          -0.535361       ...   \n",
       "4                                          -0.535361       ...   \n",
       "\n",
       "   histogram_width  histogram_min  histogram_max  histogram_number_of_peaks  \\\n",
       "0        -0.165507      -1.068562      -2.119592                  -0.701397   \n",
       "1         1.529124      -0.865539       1.893794                   0.655137   \n",
       "2         1.529124      -0.865539       1.893794                   0.316003   \n",
       "3         1.195333      -1.373097       0.333033                   2.350804   \n",
       "4         1.195333      -1.373097       0.333033                   1.672537   \n",
       "\n",
       "   histogram_number_of_zeroes  histogram_mode  histogram_mean  \\\n",
       "0                   -0.458444       -1.065614        0.153270   \n",
       "1                    0.958201        0.216638        0.089126   \n",
       "2                    0.958201        0.216638        0.024982   \n",
       "3                   -0.458444       -0.027600       -0.039162   \n",
       "4                   -0.458444       -0.027600        0.089126   \n",
       "\n",
       "   histogram_median  histogram_variance  histogram_tendency  \n",
       "0         -1.181642            1.870569            1.112980  \n",
       "1          0.132038           -0.234998           -0.524526  \n",
       "2         -0.006244           -0.200481           -0.524526  \n",
       "3         -0.075385           -0.200481            1.112980  \n",
       "4         -0.006244           -0.269516            1.112980  \n",
       "\n",
       "[5 rows x 21 columns]"
      ]
     },
     "execution_count": 21,
     "metadata": {},
     "output_type": "execute_result"
    }
   ],
   "source": [
    "X.head()"
   ]
  },
  {
   "cell_type": "markdown",
   "id": "b7219d0c",
   "metadata": {},
   "source": [
    "## Test Train Split and Cross Validation methods\n",
    "Train Test Split :\n",
    "To have unknown datapoints to test the data rather than testing with the same points with which the model was trained.\n",
    "This helps capture the model performance much better.\n",
    "Cross-validation, sometimes called rotation estimation or out-of-sample testing,\n",
    "is any of various similar model validation techniques for assessing \n",
    "how the results of a statistical analysis will generalize to an independent data set."
   ]
  },
  {
   "cell_type": "code",
   "execution_count": 57,
   "id": "a3de18b0",
   "metadata": {},
   "outputs": [],
   "source": [
    "y = data[\"fetal_health\"]"
   ]
  },
  {
   "cell_type": "code",
   "execution_count": 23,
   "id": "0286fa3a",
   "metadata": {},
   "outputs": [],
   "source": [
    "X_train, X_test, y_train, y_test = train_test_split(X, y, test_size = 0.3, random_state = 42, stratify = y)"
   ]
  },
  {
   "cell_type": "code",
   "execution_count": 24,
   "id": "5953ae95",
   "metadata": {},
   "outputs": [
    {
     "data": {
      "text/plain": [
       "((1488, 21), (638, 21), (1488,), (638,))"
      ]
     },
     "execution_count": 24,
     "metadata": {},
     "output_type": "execute_result"
    }
   ],
   "source": [
    "X_train.shape, X_test.shape, y_train.shape, y_test.shape"
   ]
  },
  {
   "cell_type": "markdown",
   "id": "b289d3fa",
   "metadata": {},
   "source": [
    "## Building Machine Learning Models:\n",
    "Logistic Regression (LR)\n",
    "\n",
    "K-nearest neighbors (KNN)\n",
    "\n",
    "Random Forest (RF)\n",
    "\n",
    "Gradient Boosting Machine (GBM)"
   ]
  },
  {
   "cell_type": "markdown",
   "id": "b59af85e",
   "metadata": {},
   "source": [
    "## Logistic Regression"
   ]
  },
  {
   "cell_type": "code",
   "execution_count": 26,
   "id": "cc7c6991",
   "metadata": {},
   "outputs": [
    {
     "name": "stdout",
     "output_type": "stream",
     "text": [
      "Baseline Logistic Regression: 0.893\n"
     ]
    }
   ],
   "source": [
    "logistic_regression = linear_model.LogisticRegression()\n",
    "logistic_regression_mod = logistic_regression.fit(X_train, y_train)\n",
    "print(f\"Baseline Logistic Regression: {round(logistic_regression_mod.score(X_test, y_test), 3)}\")\n",
    "\n",
    "pred_logistic_regression = logistic_regression_mod.predict(X_test)"
   ]
  },
  {
   "cell_type": "code",
   "execution_count": 32,
   "id": "2b3d6e84",
   "metadata": {},
   "outputs": [],
   "source": [
    "cv_method = StratifiedKFold(n_splits=3,shuffle=True ,\n",
    "                            random_state=42\n",
    "                            )"
   ]
  },
  {
   "cell_type": "code",
   "execution_count": 33,
   "id": "9aabcbf6",
   "metadata": {},
   "outputs": [
    {
     "name": "stdout",
     "output_type": "stream",
     "text": [
      "Scores(Cross validate) for Logistic Regression model:\n",
      "[0.91129032 0.89516129 0.90927419]\n",
      "CrossValMeans: 0.905\n",
      "CrossValStandard Deviation: 0.007\n"
     ]
    }
   ],
   "source": [
    "scores_Logistic = cross_val_score(logistic_regression, X_train, y_train, cv =cv_method, n_jobs = 2, scoring = \"accuracy\")\n",
    "\n",
    "print(f\"Scores(Cross validate) for Logistic Regression model:\\n{scores_Logistic}\")\n",
    "print(f\"CrossValMeans: {round(scores_Logistic.mean(), 3)}\")\n",
    "print(f\"CrossValStandard Deviation: {round(scores_Logistic.std(), 3)}\")"
   ]
  },
  {
   "cell_type": "code",
   "execution_count": 34,
   "id": "ac776335",
   "metadata": {},
   "outputs": [],
   "source": [
    "params_LR = {\"tol\": [0.0001,0.0002,0.0003],\n",
    "            \"C\": [0.01, 0.1, 1, 10, 100],\n",
    "            \"intercept_scaling\": [1, 2, 3, 4]\n",
    "              }"
   ]
  },
  {
   "cell_type": "code",
   "execution_count": 35,
   "id": "a2e46973",
   "metadata": {},
   "outputs": [],
   "source": [
    "GridSearchCV_LR = GridSearchCV(estimator=linear_model.LogisticRegression(), \n",
    "                                param_grid=params_LR, \n",
    "                                cv=cv_method,\n",
    "                                verbose=1, \n",
    "                                n_jobs=2,\n",
    "                                scoring=\"accuracy\", \n",
    "                                return_train_score=True\n",
    "                                )"
   ]
  },
  {
   "cell_type": "code",
   "execution_count": 36,
   "id": "f17e8f86",
   "metadata": {},
   "outputs": [
    {
     "name": "stdout",
     "output_type": "stream",
     "text": [
      "Fitting 3 folds for each of 60 candidates, totalling 180 fits\n"
     ]
    }
   ],
   "source": [
    "GridSearchCV_LR.fit(X_train, y_train);"
   ]
  },
  {
   "cell_type": "markdown",
   "id": "c6a1a511",
   "metadata": {},
   "source": [
    "## Model Performance Analysis\n",
    "\n",
    "Classification Report: \n",
    "\n",
    "Report which includes Precision, Recall and F1-Score.\n",
    "Precision - Precision is the ratio of correctly predicted positive observations to the total predicted positive observations.\n",
    "\n",
    "Precision = TP/TP+FP\n",
    "\n",
    "Recall (Sensitivity) - Recall is the ratio of correctly predicted positive observations to the all observations in actual class - yes.\n",
    "\n",
    "Recall = TP/TP+FN\n",
    "\n",
    "F1 score - F1 Score is the weighted average of Precision and Recall. Therefore, this score takes both false positives and false negatives into account. Intuitively it is not as easy to understand as accuracy, but F1 is usually more useful than accuracy, especially if you have an uneven class distribution. Accuracy works best if false positives and false negatives have similar cost. If the cost of false positives and false negatives are very different, it’s better to look at both Precision and Recall.\n",
    "\n",
    "F1 Score = 2(Recall Precision) / (Recall + Precision)"
   ]
  },
  {
   "cell_type": "code",
   "execution_count": 41,
   "id": "db37ab62",
   "metadata": {},
   "outputs": [
    {
     "name": "stdout",
     "output_type": "stream",
     "text": [
      "Classification Report\n",
      "              precision    recall  f1-score   support\n",
      "\n",
      "         1.0       0.94      0.95      0.94       497\n",
      "         2.0       0.62      0.72      0.67        88\n",
      "         3.0       0.95      0.70      0.80        53\n",
      "\n",
      "    accuracy                           0.89       638\n",
      "   macro avg       0.84      0.79      0.81       638\n",
      "weighted avg       0.90      0.89      0.89       638\n",
      "\n"
     ]
    }
   ],
   "source": [
    "print(\"Classification Report\")\n",
    "print(classification_report(y_test, pred_logistic_regression))"
   ]
  },
  {
   "cell_type": "markdown",
   "id": "34521649",
   "metadata": {},
   "source": [
    "## Confusion Matrix:\n",
    "\n",
    "The confusion matrix is a technique used for summarizing the performance of a classification algorithm i.e. it has binary outputs."
   ]
  },
  {
   "cell_type": "code",
   "execution_count": 42,
   "id": "93485269",
   "metadata": {},
   "outputs": [
    {
     "name": "stdout",
     "output_type": "stream",
     "text": [
      "Confusion Matrix:\n",
      "[[470  26   1]\n",
      " [ 24  63   1]\n",
      " [  4  12  37]]\n"
     ]
    }
   ],
   "source": [
    "print(\"Confusion Matrix:\")\n",
    "print(confusion_matrix(y_test, pred_logistic_regression))"
   ]
  },
  {
   "cell_type": "code",
   "execution_count": 43,
   "id": "da213603",
   "metadata": {},
   "outputs": [
    {
     "data": {
      "image/png": "[encoded data removed]",
      "text/plain": [
       "<Figure size 432x288 with 2 Axes>"
      ]
     },
     "metadata": {
      "needs_background": "light"
     },
     "output_type": "display_data"
    }
   ],
   "source": [
    "ax= plt.subplot()\n",
    "sns.heatmap(confusion_matrix(y_test, pred_logistic_regression), annot=True, ax = ax, cmap = \"BuGn\");\n",
    "\n",
    "# labels, title and ticks\n",
    "ax.set_xlabel(\"Predicted labels\");\n",
    "ax.set_ylabel(\"True labels\"); \n",
    "ax.set_title(\"Confusion Matrix\"); \n",
    "ax.xaxis.set_ticklabels([\"Normal\", \"Suspect\", \"Pathological\"]);"
   ]
  },
  {
   "cell_type": "markdown",
   "id": "92a3a1ed",
   "metadata": {},
   "source": [
    "## KNN"
   ]
  },
  {
   "cell_type": "code",
   "execution_count": 44,
   "id": "a241401d",
   "metadata": {},
   "outputs": [
    {
     "name": "stdout",
     "output_type": "stream",
     "text": [
      "Baseline K-Nearest Neighbors: 0.878\n"
     ]
    }
   ],
   "source": [
    "knn = KNeighborsClassifier()\n",
    "knn_mod = knn.fit(X_train, y_train)\n",
    "print(f\"Baseline K-Nearest Neighbors: {round(knn_mod.score(X_test, y_test), 3)}\")\n",
    "\n",
    "pred_knn = knn_mod.predict(X_test)"
   ]
  },
  {
   "cell_type": "code",
   "execution_count": 45,
   "id": "74165605",
   "metadata": {},
   "outputs": [
    {
     "name": "stdout",
     "output_type": "stream",
     "text": [
      "Baseline Random Forest: 0.929\n"
     ]
    }
   ],
   "source": [
    "random_forest = RandomForestClassifier()\n",
    "random_forest_mod = random_forest.fit(X_train, y_train)\n",
    "print(f\"Baseline Random Forest: {round(random_forest_mod.score(X_test, y_test), 3)}\")\n",
    "\n",
    "pred_random_forest = random_forest_mod.predict(X_test)"
   ]
  },
  {
   "cell_type": "code",
   "execution_count": 61,
   "id": "edf74e0c",
   "metadata": {},
   "outputs": [
    {
     "name": "stdout",
     "output_type": "stream",
     "text": [
      "Classification Report\n",
      "              precision    recall  f1-score   support\n",
      "\n",
      "         1.0       0.91      0.97      0.94       497\n",
      "         2.0       0.63      0.52      0.57        88\n",
      "         3.0       0.89      0.64      0.75        53\n",
      "\n",
      "    accuracy                           0.88       638\n",
      "   macro avg       0.81      0.71      0.75       638\n",
      "weighted avg       0.87      0.88      0.87       638\n",
      "\n"
     ]
    }
   ],
   "source": [
    "print(\"Classification Report\")\n",
    "print(classification_report(y_test, pred_knn))"
   ]
  },
  {
   "cell_type": "code",
   "execution_count": 63,
   "id": "a3b361b1",
   "metadata": {},
   "outputs": [
    {
     "name": "stdout",
     "output_type": "stream",
     "text": [
      "Confusion Matrix:\n",
      "[[480  16   1]\n",
      " [ 39  46   3]\n",
      " [  8  11  34]]\n"
     ]
    }
   ],
   "source": [
    "print(\"Confusion Matrix:\")\n",
    "print(confusion_matrix(y_test, pred_knn))"
   ]
  },
  {
   "cell_type": "code",
   "execution_count": 64,
   "id": "6db6728c",
   "metadata": {},
   "outputs": [
    {
     "data": {
      "image/png": "[encoded data removed]",
      "text/plain": [
       "<Figure size 432x288 with 2 Axes>"
      ]
     },
     "metadata": {
      "needs_background": "light"
     },
     "output_type": "display_data"
    }
   ],
   "source": [
    "ax= plt.subplot()\n",
    "sns.heatmap(confusion_matrix(y_test, pred_knn), annot=True, ax = ax, cmap = \"BuGn\");\n",
    "\n",
    "# labels, title and ticks\n",
    "ax.set_xlabel(\"Predicted labels\");\n",
    "ax.set_ylabel(\"True labels\"); \n",
    "ax.set_title(\"Confusion Matrix\"); \n",
    "ax.xaxis.set_ticklabels([\"Normal\", \"Suspect\", \"Pathological\"]);"
   ]
  },
  {
   "cell_type": "markdown",
   "id": "f7ffb273",
   "metadata": {},
   "source": [
    "## Random forest"
   ]
  },
  {
   "cell_type": "code",
   "execution_count": 46,
   "id": "ccb7b5f8",
   "metadata": {},
   "outputs": [
    {
     "name": "stdout",
     "output_type": "stream",
     "text": [
      "Scores(Cross validate) for Random forest model:\n",
      "[0.92741935 0.93951613 0.93548387]\n",
      "CrossValMeans: 0.934\n",
      "CrossValStandard Deviation: 0.005\n"
     ]
    }
   ],
   "source": [
    "scores_RF = cross_val_score(random_forest, X_train, y_train, cv = cv_method, n_jobs = 2, scoring = \"accuracy\")\n",
    "\n",
    "print(f\"Scores(Cross validate) for Random forest model:\\n{scores_RF}\")\n",
    "print(f\"CrossValMeans: {round(scores_RF.mean(), 3)}\")\n",
    "print(f\"CrossValStandard Deviation: {round(scores_RF.std(), 3)}\")"
   ]
  },
  {
   "cell_type": "code",
   "execution_count": 47,
   "id": "096244fe",
   "metadata": {},
   "outputs": [],
   "source": [
    "params_RF = {\"min_samples_split\": [2, 6, 20],\n",
    "              \"min_samples_leaf\": [1, 4, 16],\n",
    "              \"n_estimators\" :[100,200,300,400],\n",
    "              \"criterion\": [\"gini\"]             \n",
    "              }"
   ]
  },
  {
   "cell_type": "code",
   "execution_count": 48,
   "id": "49947a29",
   "metadata": {},
   "outputs": [],
   "source": [
    "GridSearchCV_RF = GridSearchCV(estimator=RandomForestClassifier(), \n",
    "                                param_grid=params_RF, \n",
    "                                cv=cv_method,\n",
    "                                verbose=1, \n",
    "                                n_jobs=2,\n",
    "                                scoring=\"accuracy\", \n",
    "                                return_train_score=True\n",
    "                                )"
   ]
  },
  {
   "cell_type": "code",
   "execution_count": 49,
   "id": "21498dee",
   "metadata": {},
   "outputs": [
    {
     "name": "stdout",
     "output_type": "stream",
     "text": [
      "Fitting 3 folds for each of 36 candidates, totalling 108 fits\n"
     ]
    }
   ],
   "source": [
    "# Fit model with train data\n",
    "GridSearchCV_RF.fit(X_train, y_train);"
   ]
  },
  {
   "cell_type": "code",
   "execution_count": 50,
   "id": "9c2413b8",
   "metadata": {},
   "outputs": [
    {
     "name": "stdout",
     "output_type": "stream",
     "text": [
      "Best estimator for RF model:\n",
      "RandomForestClassifier(n_estimators=400)\n"
     ]
    }
   ],
   "source": [
    "best_estimator_RF = GridSearchCV_RF.best_estimator_\n",
    "print(f\"Best estimator for RF model:\\n{best_estimator_RF}\")"
   ]
  },
  {
   "cell_type": "code",
   "execution_count": 52,
   "id": "1f71b419",
   "metadata": {},
   "outputs": [
    {
     "name": "stdout",
     "output_type": "stream",
     "text": [
      "Classification Report\n",
      "              precision    recall  f1-score   support\n",
      "\n",
      "         1.0       0.95      0.97      0.96       497\n",
      "         2.0       0.82      0.73      0.77        88\n",
      "         3.0       0.88      0.87      0.88        53\n",
      "\n",
      "    accuracy                           0.93       638\n",
      "   macro avg       0.89      0.86      0.87       638\n",
      "weighted avg       0.93      0.93      0.93       638\n",
      "\n"
     ]
    }
   ],
   "source": [
    "print(\"Classification Report\")\n",
    "print(classification_report(y_test, pred_random_forest))"
   ]
  },
  {
   "cell_type": "code",
   "execution_count": 53,
   "id": "95417669",
   "metadata": {},
   "outputs": [
    {
     "name": "stdout",
     "output_type": "stream",
     "text": [
      "Confusion Matrix:\n",
      "[[483  10   4]\n",
      " [ 22  64   2]\n",
      " [  3   4  46]]\n"
     ]
    }
   ],
   "source": [
    "print(\"Confusion Matrix:\")\n",
    "print(confusion_matrix(y_test, pred_random_forest))"
   ]
  },
  {
   "cell_type": "code",
   "execution_count": 54,
   "id": "0dbad786",
   "metadata": {},
   "outputs": [
    {
     "data": {
      "image/png": "[encoded data removed]",
      "text/plain": [
       "<Figure size 432x288 with 2 Axes>"
      ]
     },
     "metadata": {
      "needs_background": "light"
     },
     "output_type": "display_data"
    }
   ],
   "source": [
    "ax= plt.subplot()\n",
    "sns.heatmap(confusion_matrix(y_test, pred_random_forest), annot=True, ax = ax, cmap = \"BuGn\");\n",
    "\n",
    "# labels, title and ticks\n",
    "ax.set_xlabel(\"Predicted labels\");\n",
    "ax.set_ylabel(\"True labels\"); \n",
    "ax.set_title(\"Confusion Matrix\"); \n",
    "ax.xaxis.set_ticklabels([\"Normal\", \"Suspect\", \"Pathological\"]);"
   ]
  },
  {
   "cell_type": "markdown",
   "id": "3b223518",
   "metadata": {},
   "source": [
    "## Gradient Boosting classifier (GBC)"
   ]
  },
  {
   "cell_type": "code",
   "execution_count": 65,
   "id": "ec506217",
   "metadata": {},
   "outputs": [
    {
     "name": "stdout",
     "output_type": "stream",
     "text": [
      "Baseline gradient boosting classifier: 0.934\n"
     ]
    }
   ],
   "source": [
    "# Baseline model of gradient boosting classifier with default parameters:\n",
    "gbc = GradientBoostingClassifier()\n",
    "gbc_mod = gbc.fit(X_train, y_train)\n",
    "print(f\"Baseline gradient boosting classifier: {round(gbc_mod.score(X_test, y_test), 3)}\")\n",
    "\n",
    "pred_gbc = gbc_mod.predict(X_test)"
   ]
  },
  {
   "cell_type": "markdown",
   "id": "38953050",
   "metadata": {},
   "source": [
    "## Tuning parameters\n",
    "\n",
    "Many strategies exist on how to tune parameters. Most data scientist see number of trees, tree depth and the learning rate as most crucial parameters.\n",
    "\n",
    "Number of trees: A high number of trees can be computationally expensive. Generally, with a change in learning rate,n_estimators should also be adjusted (10-fold decrease in learning_rate should go in line with a approx. 10-fold increase in n_estimators.\n",
    "Learning rate: Determines the contribution of each tree on the final outcome and controls how quickly the algorithm proceeds down the gradient descent (learns). This hyperparameter is also called shrinkage. Generally, the smaller this value, the more accurate the model can be but also will require more trees in the sequence.\n",
    "Tree depth: Controls the depth of the individual trees. Typical values range from a depth of 3–8 but it is not uncommon to see a tree depth of 1.\n",
    "Parameter tuning is a crucial task in finding the model with the highest predictive power. The code below how to tune parameters in a gradient boosting model for classification.\n",
    "\n",
    "It's hyperparameter tuning time. First, we need to define a dictionary of GBC parameters for the grid search."
   ]
  },
  {
   "cell_type": "code",
   "execution_count": 66,
   "id": "6c97a33b",
   "metadata": {},
   "outputs": [],
   "source": [
    "params_GBC = {\"loss\": [\"deviance\"],\n",
    "              \"learning_rate\": [0.05, 0.075, 0.1, 0.25, 0.5, 0.75, 1], \n",
    "              \"n_estimators\": [250, 500],\n",
    "              \"max_depth\": [3, 5, 8]\n",
    "              }"
   ]
  },
  {
   "cell_type": "markdown",
   "id": "36395f14",
   "metadata": {},
   "source": [
    "Second, we pass the GradientBoostingClassifier()\n",
    "and params_GBC as the model and the parameter dictionary into the GridSearchCV function.\n",
    "\n"
   ]
  },
  {
   "cell_type": "code",
   "execution_count": 67,
   "id": "6e171d1d",
   "metadata": {},
   "outputs": [],
   "source": [
    "GridSearchCV_GBC = GridSearchCV(estimator=GradientBoostingClassifier(), \n",
    "                                param_grid=params_GBC, \n",
    "                                cv=cv_method,\n",
    "                                verbose=1, \n",
    "                                n_jobs=2,\n",
    "                                scoring=\"accuracy\", \n",
    "                                return_train_score=True\n",
    "                                )"
   ]
  },
  {
   "cell_type": "code",
   "execution_count": 68,
   "id": "58f2a199",
   "metadata": {},
   "outputs": [
    {
     "name": "stdout",
     "output_type": "stream",
     "text": [
      "Fitting 3 folds for each of 42 candidates, totalling 126 fits\n"
     ]
    }
   ],
   "source": [
    "# Fit model with train data\n",
    "GridSearchCV_GBC.fit(X_train, y_train);"
   ]
  },
  {
   "cell_type": "code",
   "execution_count": 76,
   "id": "6aa62be5",
   "metadata": {},
   "outputs": [
    {
     "name": "stdout",
     "output_type": "stream",
     "text": [
      "Classification Report\n",
      "              precision    recall  f1-score   support\n",
      "\n",
      "         1.0       0.95      0.98      0.96       497\n",
      "         2.0       0.87      0.70      0.78        88\n",
      "         3.0       0.88      0.92      0.90        53\n",
      "\n",
      "    accuracy                           0.93       638\n",
      "   macro avg       0.90      0.87      0.88       638\n",
      "weighted avg       0.93      0.93      0.93       638\n",
      "\n"
     ]
    }
   ],
   "source": [
    "print(\"Classification Report\")\n",
    "print(classification_report(y_test, pred_gbc))"
   ]
  },
  {
   "cell_type": "code",
   "execution_count": 77,
   "id": "6d442315",
   "metadata": {},
   "outputs": [
    {
     "name": "stdout",
     "output_type": "stream",
     "text": [
      "Confusion Matrix:\n",
      "[[485   8   4]\n",
      " [ 23  62   3]\n",
      " [  3   1  49]]\n"
     ]
    }
   ],
   "source": [
    "print(\"Confusion Matrix:\")\n",
    "print(confusion_matrix(y_test, pred_gbc))"
   ]
  },
  {
   "cell_type": "code",
   "execution_count": 79,
   "id": "bcb11787",
   "metadata": {},
   "outputs": [
    {
     "data": {
      "image/png": "[encoded data removed]",
      "text/plain": [
       "<Figure size 432x288 with 2 Axes>"
      ]
     },
     "metadata": {
      "needs_background": "light"
     },
     "output_type": "display_data"
    }
   ],
   "source": [
    "ax= plt.subplot()\n",
    "sns.heatmap(confusion_matrix(y_test, pred_gbc), annot=True, ax = ax, cmap = \"BuGn\");\n",
    "\n",
    "# labels, title and ticks\n",
    "ax.set_xlabel(\"Predicted labels\");\n",
    "ax.set_ylabel(\"True labels\"); \n",
    "ax.set_title(\"Confusion Matrix\"); \n",
    "ax.xaxis.set_ticklabels([\"Normal\", \"Suspect\", \"Pathological\"]);"
   ]
  },
  {
   "cell_type": "code",
   "execution_count": null,
   "id": "376e85ca",
   "metadata": {},
   "outputs": [],
   "source": []
  }
 ],
 "metadata": {
  "kernelspec": {
   "display_name": "Python 3 (ipykernel)",
   "language": "python",
   "name": "python3"
  },
  "language_info": {
   "codemirror_mode": {
    "name": "ipython",
    "version": 3
   },
   "file_extension": ".py",
   "mimetype": "text/x-python",
   "name": "python",
   "nbconvert_exporter": "python",
   "pygments_lexer": "ipython3",
   "version": "3.9.7"
  }
 },
 "nbformat": 4,
 "nbformat_minor": 5
}
